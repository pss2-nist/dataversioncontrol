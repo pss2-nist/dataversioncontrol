{
 "cells": [
  {
   "cell_type": "markdown",
   "metadata": {},
   "source": [
    "# DVC Tutorial\n",
    "\n",
    "### Import relevant libraries"
   ]
  },
  {
   "cell_type": "code",
   "execution_count": 3,
   "metadata": {},
   "outputs": [
    {
     "name": "stdout",
     "output_type": "stream",
     "text": [
      "Collecting dvc\n",
      "  Using cached dvc-3.51.2-py3-none-any.whl (452 kB)\n",
      "Requirement already satisfied: dpath<3,>=2.1.0 in c:\\users\\pss2\\anaconda3\\lib\\site-packages (from dvc) (2.1.6)\n",
      "Collecting dvc-http>=2.29.0\n",
      "  Using cached dvc_http-2.32.0-py3-none-any.whl (12 kB)\n",
      "Requirement already satisfied: configobj>=5.0.6 in c:\\users\\pss2\\anaconda3\\lib\\site-packages (from dvc) (5.0.8)\n",
      "Collecting hydra-core>=1.1\n",
      "  Using cached hydra_core-1.3.2-py3-none-any.whl (154 kB)\n",
      "Requirement already satisfied: funcy>=1.14 in c:\\users\\pss2\\anaconda3\\lib\\site-packages (from dvc) (2.0)\n",
      "Requirement already satisfied: pygtrie>=2.3.2 in c:\\users\\pss2\\anaconda3\\lib\\site-packages (from dvc) (2.5.0)\n",
      "Requirement already satisfied: requests>=2.22 in c:\\users\\pss2\\anaconda3\\lib\\site-packages (from dvc) (2.28.1)\n",
      "Requirement already satisfied: shortuuid>=0.5 in c:\\users\\pss2\\anaconda3\\lib\\site-packages (from dvc) (1.0.13)\n",
      "Requirement already satisfied: dvc-render<2,>=1.0.1 in c:\\users\\pss2\\anaconda3\\lib\\site-packages (from dvc) (1.0.2)\n",
      "Requirement already satisfied: packaging>=19 in c:\\users\\pss2\\anaconda3\\lib\\site-packages (from dvc) (21.3)\n",
      "Collecting gto<2,>=1.6.0\n",
      "  Using cached gto-1.7.1-py3-none-any.whl (46 kB)\n",
      "Requirement already satisfied: pyparsing>=2.4.7 in c:\\users\\pss2\\anaconda3\\lib\\site-packages (from dvc) (3.0.9)\n",
      "Collecting celery\n",
      "  Using cached celery-5.4.0-py3-none-any.whl (425 kB)\n",
      "Collecting iterative-telemetry>=0.0.7\n",
      "  Using cached iterative_telemetry-0.0.8-py3-none-any.whl (10 kB)\n",
      "Requirement already satisfied: fsspec in c:\\users\\pss2\\anaconda3\\lib\\site-packages (from dvc) (2024.6.0)\n",
      "Collecting attrs>=22.2.0\n",
      "  Using cached attrs-23.2.0-py3-none-any.whl (60 kB)\n",
      "Collecting dvc-objects\n",
      "  Using cached dvc_objects-5.1.0-py3-none-any.whl (33 kB)\n",
      "Requirement already satisfied: platformdirs<4,>=3.1.1 in c:\\users\\pss2\\anaconda3\\lib\\site-packages (from dvc) (3.11.0)\n",
      "Requirement already satisfied: psutil>=5.8 in c:\\users\\pss2\\anaconda3\\lib\\site-packages (from dvc) (5.9.0)\n",
      "Requirement already satisfied: pydot>=1.2.4 in c:\\users\\pss2\\anaconda3\\lib\\site-packages (from dvc) (2.0.0)\n",
      "Requirement already satisfied: zc.lockfile>=1.2.1 in c:\\users\\pss2\\anaconda3\\lib\\site-packages (from dvc) (3.0.post1)\n",
      "Requirement already satisfied: grandalf<1,>=0.7 in c:\\users\\pss2\\anaconda3\\lib\\site-packages (from dvc) (0.8)\n",
      "Collecting dvc-studio-client<1,>=0.20\n",
      "  Using cached dvc_studio_client-0.20.0-py3-none-any.whl (16 kB)\n",
      "Requirement already satisfied: voluptuous>=0.11.7 in c:\\users\\pss2\\anaconda3\\lib\\site-packages (from dvc) (0.14.2)\n",
      "Requirement already satisfied: distro>=1.3 in c:\\users\\pss2\\anaconda3\\lib\\site-packages (from dvc) (1.9.0)\n",
      "Requirement already satisfied: pathspec>=0.10.3 in c:\\users\\pss2\\anaconda3\\lib\\site-packages (from dvc) (0.12.1)\n",
      "Collecting scmrepo<4,>=3.3.4\n",
      "  Using cached scmrepo-3.3.5-py3-none-any.whl (73 kB)\n",
      "Requirement already satisfied: tomlkit>=0.11.1 in c:\\users\\pss2\\anaconda3\\lib\\site-packages (from dvc) (0.11.1)\n",
      "Requirement already satisfied: shtab<2,>=1.3.4 in c:\\users\\pss2\\anaconda3\\lib\\site-packages (from dvc) (1.7.1)\n",
      "Collecting flufl.lock<8,>=5\n",
      "  Using cached flufl.lock-7.1.1-py3-none-any.whl (11 kB)\n",
      "Requirement already satisfied: networkx>=2.5 in c:\\users\\pss2\\anaconda3\\lib\\site-packages (from dvc) (2.8.4)\n",
      "Collecting kombu\n",
      "  Using cached kombu-5.3.7-py3-none-any.whl (200 kB)\n",
      "Requirement already satisfied: tabulate>=0.8.7 in c:\\users\\pss2\\anaconda3\\lib\\site-packages (from dvc) (0.8.10)\n",
      "Requirement already satisfied: tqdm<5,>=4.63.1 in c:\\users\\pss2\\anaconda3\\lib\\site-packages (from dvc) (4.64.1)\n",
      "Requirement already satisfied: ruamel.yaml>=0.17.11 in c:\\users\\pss2\\anaconda3\\lib\\site-packages (from dvc) (0.17.21)\n",
      "Collecting rich>=12\n",
      "  Using cached rich-13.7.1-py3-none-any.whl (240 kB)\n",
      "Requirement already satisfied: colorama>=0.3.9 in c:\\users\\pss2\\anaconda3\\lib\\site-packages (from dvc) (0.4.5)\n",
      "Collecting dvc-data<3.16,>=3.15\n",
      "  Using cached dvc_data-3.15.1-py3-none-any.whl (71 kB)\n",
      "Requirement already satisfied: dulwich in c:\\users\\pss2\\anaconda3\\lib\\site-packages (from dvc) (0.22.1)\n",
      "Requirement already satisfied: omegaconf in c:\\users\\pss2\\anaconda3\\lib\\site-packages (from dvc) (2.3.0)\n",
      "Collecting dvc-task<1,>=0.3.0\n",
      "  Using cached dvc_task-0.4.0-py3-none-any.whl (21 kB)\n",
      "Requirement already satisfied: flatten-dict<1,>=0.4.1 in c:\\users\\pss2\\anaconda3\\lib\\site-packages (from dvc) (0.4.2)\n",
      "Requirement already satisfied: six in c:\\users\\pss2\\anaconda3\\lib\\site-packages (from configobj>=5.0.6->dvc) (1.16.0)\n",
      "Collecting sqltrie<1,>=0.11.0\n",
      "  Using cached sqltrie-0.11.0-py3-none-any.whl (17 kB)\n",
      "Requirement already satisfied: diskcache>=5.2.1 in c:\\users\\pss2\\anaconda3\\lib\\site-packages (from dvc-data<3.16,>=3.15->dvc) (5.6.3)\n",
      "Requirement already satisfied: dictdiffer>=0.8.1 in c:\\users\\pss2\\anaconda3\\lib\\site-packages (from dvc-data<3.16,>=3.15->dvc) (0.9.0)\n",
      "Collecting aiohttp-retry>=2.5.0\n",
      "  Using cached aiohttp_retry-2.8.3-py3-none-any.whl (9.8 kB)\n",
      "Requirement already satisfied: pywin32>=225 in c:\\users\\pss2\\anaconda3\\lib\\site-packages (from dvc-task<1,>=0.3.0->dvc) (302)\n",
      "Collecting billiard<5.0,>=4.2.0\n",
      "  Using cached billiard-4.2.0-py3-none-any.whl (86 kB)\n",
      "Collecting click-didyoumean>=0.3.0\n",
      "  Using cached click_didyoumean-0.3.1-py3-none-any.whl (3.6 kB)\n",
      "Collecting click-plugins>=1.1.1\n",
      "  Using cached click_plugins-1.1.1-py2.py3-none-any.whl (7.5 kB)\n",
      "Requirement already satisfied: tzdata>=2022.7 in c:\\users\\pss2\\anaconda3\\lib\\site-packages (from celery->dvc) (2024.1)\n",
      "Collecting click-repl>=0.2.0\n",
      "  Using cached click_repl-0.3.0-py3-none-any.whl (10 kB)\n",
      "Requirement already satisfied: python-dateutil>=2.8.2 in c:\\users\\pss2\\anaconda3\\lib\\site-packages (from celery->dvc) (2.8.2)\n",
      "Requirement already satisfied: click<9.0,>=8.1.2 in c:\\users\\pss2\\anaconda3\\lib\\site-packages (from celery->dvc) (8.1.7)\n",
      "Requirement already satisfied: vine<6.0,>=5.1.0 in c:\\users\\pss2\\anaconda3\\lib\\site-packages (from celery->dvc) (5.1.0)\n",
      "Collecting atpublic>=2.3\n",
      "  Using cached atpublic-4.1.0-py3-none-any.whl (5.0 kB)\n",
      "Requirement already satisfied: entrypoints in c:\\users\\pss2\\anaconda3\\lib\\site-packages (from gto<2,>=1.6.0->dvc) (0.4)\n",
      "Collecting typer>=0.4.1\n",
      "  Using cached typer-0.12.3-py3-none-any.whl (47 kB)\n",
      "Requirement already satisfied: pydantic!=2.0.0,<3,>=1.9.0 in c:\\users\\pss2\\anaconda3\\lib\\site-packages (from gto<2,>=1.6.0->dvc) (1.10.12)\n",
      "Requirement already satisfied: semver>=2.13.0 in c:\\users\\pss2\\anaconda3\\lib\\site-packages (from gto<2,>=1.6.0->dvc) (2.13.0)\n",
      "Requirement already satisfied: antlr4-python3-runtime==4.9.* in c:\\users\\pss2\\anaconda3\\lib\\site-packages (from hydra-core>=1.1->dvc) (4.9.3)\n",
      "Requirement already satisfied: appdirs in c:\\users\\pss2\\anaconda3\\lib\\site-packages (from iterative-telemetry>=0.0.7->dvc) (1.4.4)\n",
      "Requirement already satisfied: filelock in c:\\users\\pss2\\anaconda3\\lib\\site-packages (from iterative-telemetry>=0.0.7->dvc) (3.6.0)\n",
      "Requirement already satisfied: typing-extensions in c:\\users\\pss2\\anaconda3\\lib\\site-packages (from kombu->dvc) (4.3.0)\n",
      "Collecting amqp<6.0.0,>=5.1.1\n",
      "  Using cached amqp-5.2.0-py3-none-any.whl (50 kB)\n",
      "Requirement already satisfied: PyYAML>=5.1.0 in c:\\users\\pss2\\anaconda3\\lib\\site-packages (from omegaconf->dvc) (6.0)\n",
      "Requirement already satisfied: charset-normalizer<3,>=2 in c:\\users\\pss2\\anaconda3\\lib\\site-packages (from requests>=2.22->dvc) (2.0.4)\n",
      "Requirement already satisfied: idna<4,>=2.5 in c:\\users\\pss2\\anaconda3\\lib\\site-packages (from requests>=2.22->dvc) (3.3)\n",
      "Requirement already satisfied: certifi>=2017.4.17 in c:\\users\\pss2\\anaconda3\\lib\\site-packages (from requests>=2.22->dvc) (2023.11.17)\n",
      "Requirement already satisfied: urllib3<1.27,>=1.21.1 in c:\\users\\pss2\\anaconda3\\lib\\site-packages (from requests>=2.22->dvc) (1.26.11)\n",
      "Collecting markdown-it-py>=2.2.0\n",
      "  Using cached markdown_it_py-3.0.0-py3-none-any.whl (87 kB)\n",
      "Requirement already satisfied: pygments<3.0.0,>=2.13.0 in c:\\users\\pss2\\anaconda3\\lib\\site-packages (from rich>=12->dvc) (2.18.0)\n",
      "Requirement already satisfied: ruamel.yaml.clib>=0.2.6 in c:\\users\\pss2\\anaconda3\\lib\\site-packages (from ruamel.yaml>=0.17.11->dvc) (0.2.6)\n",
      "Collecting gitpython>3\n",
      "  Using cached GitPython-3.1.43-py3-none-any.whl (207 kB)\n",
      "Collecting asyncssh<3,>=2.13.1\n",
      "  Using cached asyncssh-2.14.2-py3-none-any.whl (352 kB)\n",
      "Collecting pygit2>=1.14.0\n",
      "  Using cached pygit2-1.15.0-cp39-cp39-win_amd64.whl (1.3 MB)\n",
      "Requirement already satisfied: setuptools in c:\\users\\pss2\\anaconda3\\lib\\site-packages (from zc.lockfile>=1.2.1->dvc) (63.4.1)\n",
      "Collecting aiohttp\n",
      "  Using cached aiohttp-3.9.5-cp39-cp39-win_amd64.whl (371 kB)\n",
      "Collecting cryptography>=39.0\n",
      "  Using cached cryptography-42.0.8-cp39-abi3-win_amd64.whl (2.9 MB)\n",
      "Requirement already satisfied: prompt-toolkit>=3.0.36 in c:\\users\\pss2\\anaconda3\\lib\\site-packages (from click-repl>=0.2.0->celery->dvc) (3.0.46)\n",
      "Collecting gitdb<5,>=4.0.1\n",
      "  Using cached gitdb-4.0.11-py3-none-any.whl (62 kB)\n",
      "Requirement already satisfied: mdurl~=0.1 in c:\\users\\pss2\\anaconda3\\lib\\site-packages (from markdown-it-py>=2.2.0->rich>=12->dvc) (0.1.2)\n",
      "Requirement already satisfied: cffi>=1.16.0 in c:\\users\\pss2\\anaconda3\\lib\\site-packages (from pygit2>=1.14.0->scmrepo<4,>=3.3.4->dvc) (1.16.0)\n",
      "Requirement already satisfied: orjson in c:\\users\\pss2\\anaconda3\\lib\\site-packages (from sqltrie<1,>=0.11.0->dvc-data<3.16,>=3.15->dvc) (3.10.3)\n",
      "Requirement already satisfied: shellingham>=1.3.0 in c:\\users\\pss2\\anaconda3\\lib\\site-packages (from typer>=0.4.1->gto<2,>=1.6.0->dvc) (1.5.4)\n",
      "Collecting aiosignal>=1.1.2\n",
      "  Using cached aiosignal-1.3.1-py3-none-any.whl (7.6 kB)\n",
      "Requirement already satisfied: multidict<7.0,>=4.5 in c:\\users\\pss2\\anaconda3\\lib\\site-packages (from aiohttp->aiohttp-retry>=2.5.0->dvc-http>=2.29.0->dvc) (6.0.5)\n",
      "Collecting yarl<2.0,>=1.0\n",
      "  Using cached yarl-1.9.4-cp39-cp39-win_amd64.whl (76 kB)\n",
      "Collecting async-timeout<5.0,>=4.0\n",
      "  Using cached async_timeout-4.0.3-py3-none-any.whl (5.7 kB)\n",
      "Requirement already satisfied: frozenlist>=1.1.1 in c:\\users\\pss2\\anaconda3\\lib\\site-packages (from aiohttp->aiohttp-retry>=2.5.0->dvc-http>=2.29.0->dvc) (1.4.1)\n",
      "Requirement already satisfied: pycparser in c:\\users\\pss2\\anaconda3\\lib\\site-packages (from cffi>=1.16.0->pygit2>=1.14.0->scmrepo<4,>=3.3.4->dvc) (2.21)\n",
      "Requirement already satisfied: smmap<6,>=3.0.1 in c:\\users\\pss2\\anaconda3\\lib\\site-packages (from gitdb<5,>=4.0.1->gitpython>3->scmrepo<4,>=3.3.4->dvc) (5.0.1)\n",
      "Requirement already satisfied: wcwidth in c:\\users\\pss2\\anaconda3\\lib\\site-packages (from prompt-toolkit>=3.0.36->click-repl>=0.2.0->celery->dvc) (0.2.5)\n",
      "Installing collected packages: yarl, markdown-it-py, gitdb, dvc-objects, billiard, attrs, atpublic, async-timeout, amqp, aiosignal, sqltrie, rich, pygit2, kombu, iterative-telemetry, hydra-core, gitpython, flufl.lock, dvc-studio-client, cryptography, click-repl, click-plugins, click-didyoumean, aiohttp, typer, dvc-data, celery, asyncssh, aiohttp-retry, scmrepo, dvc-task, dvc-http, gto, dvc\n",
      "Successfully installed aiohttp-3.9.5 aiohttp-retry-2.8.3 aiosignal-1.3.1 amqp-5.2.0 async-timeout-4.0.3 asyncssh-2.14.2 atpublic-4.1.0 attrs-23.2.0 billiard-4.2.0 celery-5.4.0 click-didyoumean-0.3.1 click-plugins-1.1.1 click-repl-0.3.0 cryptography-42.0.8 dvc-3.51.2 dvc-data-3.15.1 dvc-http-2.32.0 dvc-objects-5.1.0 dvc-studio-client-0.20.0 dvc-task-0.4.0 flufl.lock-7.1.1 gitdb-4.0.11 gitpython-3.1.43 gto-1.7.1 hydra-core-1.3.2 iterative-telemetry-0.0.8 kombu-5.3.7 markdown-it-py-3.0.0 pygit2-1.15.0 rich-13.7.1 scmrepo-3.3.5 sqltrie-0.11.0 typer-0.12.3 yarl-1.9.4\n"
     ]
    },
    {
     "name": "stderr",
     "output_type": "stream",
     "text": [
      "WARNING: Ignoring invalid distribution -ffi (c:\\users\\pss2\\anaconda3\\lib\\site-packages)\n",
      "WARNING: Ignoring invalid distribution -ffi (c:\\users\\pss2\\anaconda3\\lib\\site-packages)\n",
      "WARNING: Ignoring invalid distribution -ffi (c:\\users\\pss2\\anaconda3\\lib\\site-packages)\n",
      "  WARNING: The script markdown-it.exe is installed in 'C:\\Users\\pss2\\AppData\\Roaming\\Python\\Python39\\Scripts' which is not on PATH.\n",
      "  Consider adding this directory to PATH or, if you prefer to suppress this warning, use --no-warn-script-location.\n",
      "  WARNING: The script typer.exe is installed in 'C:\\Users\\pss2\\AppData\\Roaming\\Python\\Python39\\Scripts' which is not on PATH.\n",
      "  Consider adding this directory to PATH or, if you prefer to suppress this warning, use --no-warn-script-location.\n",
      "  WARNING: The script dvc-data.exe is installed in 'C:\\Users\\pss2\\AppData\\Roaming\\Python\\Python39\\Scripts' which is not on PATH.\n",
      "  Consider adding this directory to PATH or, if you prefer to suppress this warning, use --no-warn-script-location.\n",
      "  WARNING: The script celery.exe is installed in 'C:\\Users\\pss2\\AppData\\Roaming\\Python\\Python39\\Scripts' which is not on PATH.\n",
      "  Consider adding this directory to PATH or, if you prefer to suppress this warning, use --no-warn-script-location.\n",
      "  WARNING: The script gto.exe is installed in 'C:\\Users\\pss2\\AppData\\Roaming\\Python\\Python39\\Scripts' which is not on PATH.\n",
      "  Consider adding this directory to PATH or, if you prefer to suppress this warning, use --no-warn-script-location.\n",
      "  WARNING: The script dvc.exe is installed in 'C:\\Users\\pss2\\AppData\\Roaming\\Python\\Python39\\Scripts' which is not on PATH.\n",
      "  Consider adding this directory to PATH or, if you prefer to suppress this warning, use --no-warn-script-location.\n",
      "WARNING: Ignoring invalid distribution -ffi (c:\\users\\pss2\\anaconda3\\lib\\site-packages)\n",
      "WARNING: Ignoring invalid distribution -ffi (c:\\users\\pss2\\anaconda3\\lib\\site-packages)\n",
      "WARNING: Ignoring invalid distribution -ffi (c:\\users\\pss2\\anaconda3\\lib\\site-packages)\n"
     ]
    }
   ],
   "source": [
    "!pip install --user dvc"
   ]
  },
  {
   "cell_type": "markdown",
   "metadata": {},
   "source": []
  },
  {
   "cell_type": "code",
   "execution_count": 4,
   "metadata": {},
   "outputs": [],
   "source": [
    "import os\n",
    "import platform\n",
    "from pathlib import Path\n",
    "import dvc"
   ]
  },
  {
   "cell_type": "markdown",
   "metadata": {},
   "source": [
    "### Determine OS"
   ]
  },
  {
   "cell_type": "code",
   "execution_count": 5,
   "metadata": {},
   "outputs": [],
   "source": [
    "os_type = platform.system()"
   ]
  },
  {
   "cell_type": "markdown",
   "metadata": {},
   "source": [
    "### Define the data directory\n",
    "#### Create Directory if it doesn't exist"
   ]
  },
  {
   "cell_type": "code",
   "execution_count": 6,
   "metadata": {},
   "outputs": [],
   "source": [
    "data_directory = Path(\"data\")\n",
    "data_directory.mkdir(parents=True, exist_ok=True)"
   ]
  },
  {
   "cell_type": "markdown",
   "metadata": {},
   "source": [
    "### initialize"
   ]
  },
  {
   "cell_type": "code",
   "execution_count": 7,
   "metadata": {},
   "outputs": [
    {
     "data": {
      "text/plain": [
       "1"
      ]
     },
     "execution_count": 7,
     "metadata": {},
     "output_type": "execute_result"
    }
   ],
   "source": [
    "os.system(\"dvc init\")\n"
   ]
  },
  {
   "cell_type": "markdown",
   "metadata": {},
   "source": [
    "### Add file to DVC tracking"
   ]
  },
  {
   "cell_type": "code",
   "execution_count": null,
   "metadata": {},
   "outputs": [],
   "source": [
    "data_file = data_directory / \"example_subfolder\"\n",
    "os.system(f\"dvc add {data_file}\")"
   ]
  },
  {
   "cell_type": "code",
   "execution_count": 1,
   "metadata": {},
   "outputs": [
    {
     "ename": "NameError",
     "evalue": "name 'os' is not defined",
     "output_type": "error",
     "traceback": [
      "\u001b[1;31m---------------------------------------------------------------------------\u001b[0m",
      "\u001b[1;31mNameError\u001b[0m                                 Traceback (most recent call last)",
      "Cell \u001b[1;32mIn[1], line 1\u001b[0m\n\u001b[1;32m----> 1\u001b[0m \u001b[43mos\u001b[49m\u001b[38;5;241m.\u001b[39msystem(\u001b[38;5;124m\"\u001b[39m\u001b[38;5;124mdvc init\u001b[39m\u001b[38;5;124m\"\u001b[39m)\n",
      "\u001b[1;31mNameError\u001b[0m: name 'os' is not defined"
     ]
    }
   ],
   "source": []
  }
 ],
 "metadata": {
  "kernelspec": {
   "display_name": "DVC Tutorial",
   "language": "python",
   "name": "dvc-tutorial"
  },
  "language_info": {
   "codemirror_mode": {
    "name": "ipython",
    "version": 3
   },
   "file_extension": ".py",
   "mimetype": "text/x-python",
   "name": "python",
   "nbconvert_exporter": "python",
   "pygments_lexer": "ipython3",
   "version": "3.8.19"
  }
 },
 "nbformat": 4,
 "nbformat_minor": 1
}
