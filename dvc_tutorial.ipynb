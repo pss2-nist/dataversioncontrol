{
 "cells": [
  {
   "cell_type": "markdown",
   "metadata": {
    "collapsed": false
   },
   "source": [
    "# DVC Tutorial\n",
    "\n",
    "This notebook provides and introduction to Data Version Control (DVC) and demonstrates its key features, including versioning data, managing pipelines and storing data remotely.\n",
    "\n",
    "## What is DVC?\n",
    "[DVC](https://dvc.org/) is an open-source version control system for data science and Machine learning projects to manage data-files and models similar to git.\n",
    "\n",
    "## Before running this notebook:\n",
    " - Make sure to follow instructions from [Readme.md](README.md) file to setup the environment. \n",
    " - Select 'DVC Tutorial' Kernel for this notebook."
   ]
  },
  {
   "cell_type": "markdown",
   "metadata": {},
   "source": [
    "\n",
    "### Import relevant libraries\n",
    "Install dvc if not already installed"
   ]
  },
  {
   "cell_type": "code",
   "execution_count": 1,
   "metadata": {
    "pycharm": {
     "is_executing": true
    }
   },
   "outputs": [
    {
     "name": "stdout",
     "output_type": "stream",
     "text": [
      "Requirement already satisfied: dvc in c:\\users\\pss2\\anaconda3\\envs\\dvc-tutorial\\lib\\site-packages (3.51.2)\n",
      "Requirement already satisfied: attrs>=22.2.0 in c:\\users\\pss2\\anaconda3\\envs\\dvc-tutorial\\lib\\site-packages (from dvc) (23.2.0)\n",
      "Requirement already satisfied: celery in c:\\users\\pss2\\anaconda3\\envs\\dvc-tutorial\\lib\\site-packages (from dvc) (5.4.0)\n",
      "Requirement already satisfied: colorama>=0.3.9 in c:\\users\\pss2\\anaconda3\\envs\\dvc-tutorial\\lib\\site-packages (from dvc) (0.4.6)\n",
      "Requirement already satisfied: configobj>=5.0.6 in c:\\users\\pss2\\anaconda3\\envs\\dvc-tutorial\\lib\\site-packages (from dvc) (5.0.8)\n",
      "Requirement already satisfied: distro>=1.3 in c:\\users\\pss2\\anaconda3\\envs\\dvc-tutorial\\lib\\site-packages (from dvc) (1.9.0)\n",
      "Requirement already satisfied: dpath<3,>=2.1.0 in c:\\users\\pss2\\anaconda3\\envs\\dvc-tutorial\\lib\\site-packages (from dvc) (2.1.6)\n",
      "Requirement already satisfied: dulwich in c:\\users\\pss2\\anaconda3\\envs\\dvc-tutorial\\lib\\site-packages (from dvc) (0.22.1)\n",
      "Requirement already satisfied: dvc-data<3.16,>=3.15 in c:\\users\\pss2\\anaconda3\\envs\\dvc-tutorial\\lib\\site-packages (from dvc) (3.15.1)\n",
      "Requirement already satisfied: dvc-http>=2.29.0 in c:\\users\\pss2\\anaconda3\\envs\\dvc-tutorial\\lib\\site-packages (from dvc) (2.32.0)\n",
      "Requirement already satisfied: dvc-objects in c:\\users\\pss2\\anaconda3\\envs\\dvc-tutorial\\lib\\site-packages (from dvc) (5.1.0)\n",
      "Requirement already satisfied: dvc-render<2,>=1.0.1 in c:\\users\\pss2\\anaconda3\\envs\\dvc-tutorial\\lib\\site-packages (from dvc) (1.0.2)\n",
      "Requirement already satisfied: dvc-studio-client<1,>=0.20 in c:\\users\\pss2\\anaconda3\\envs\\dvc-tutorial\\lib\\site-packages (from dvc) (0.20.0)\n",
      "Requirement already satisfied: dvc-task<1,>=0.3.0 in c:\\users\\pss2\\anaconda3\\envs\\dvc-tutorial\\lib\\site-packages (from dvc) (0.4.0)\n",
      "Requirement already satisfied: flatten-dict<1,>=0.4.1 in c:\\users\\pss2\\anaconda3\\envs\\dvc-tutorial\\lib\\site-packages (from dvc) (0.4.2)\n",
      "Requirement already satisfied: flufl.lock<8,>=5 in c:\\users\\pss2\\anaconda3\\envs\\dvc-tutorial\\lib\\site-packages (from dvc) (7.1.1)\n",
      "Requirement already satisfied: fsspec in c:\\users\\pss2\\anaconda3\\envs\\dvc-tutorial\\lib\\site-packages (from dvc) (2024.6.0)\n",
      "Requirement already satisfied: funcy>=1.14 in c:\\users\\pss2\\anaconda3\\envs\\dvc-tutorial\\lib\\site-packages (from dvc) (2.0)\n",
      "Requirement already satisfied: grandalf<1,>=0.7 in c:\\users\\pss2\\anaconda3\\envs\\dvc-tutorial\\lib\\site-packages (from dvc) (0.8)\n",
      "Requirement already satisfied: gto<2,>=1.6.0 in c:\\users\\pss2\\anaconda3\\envs\\dvc-tutorial\\lib\\site-packages (from dvc) (1.7.1)\n",
      "Requirement already satisfied: hydra-core>=1.1 in c:\\users\\pss2\\anaconda3\\envs\\dvc-tutorial\\lib\\site-packages (from dvc) (1.3.2)\n",
      "Requirement already satisfied: iterative-telemetry>=0.0.7 in c:\\users\\pss2\\anaconda3\\envs\\dvc-tutorial\\lib\\site-packages (from dvc) (0.0.8)\n",
      "Requirement already satisfied: kombu in c:\\users\\pss2\\anaconda3\\envs\\dvc-tutorial\\lib\\site-packages (from dvc) (5.3.7)\n",
      "Requirement already satisfied: networkx>=2.5 in c:\\users\\pss2\\anaconda3\\envs\\dvc-tutorial\\lib\\site-packages (from dvc) (3.3)\n",
      "Requirement already satisfied: omegaconf in c:\\users\\pss2\\anaconda3\\envs\\dvc-tutorial\\lib\\site-packages (from dvc) (2.3.0)\n",
      "Requirement already satisfied: packaging>=19 in c:\\users\\pss2\\anaconda3\\envs\\dvc-tutorial\\lib\\site-packages (from dvc) (23.2)\n",
      "Requirement already satisfied: pathspec>=0.10.3 in c:\\users\\pss2\\anaconda3\\envs\\dvc-tutorial\\lib\\site-packages (from dvc) (0.12.1)\n",
      "Requirement already satisfied: platformdirs<4,>=3.1.1 in c:\\users\\pss2\\anaconda3\\envs\\dvc-tutorial\\lib\\site-packages (from dvc) (3.10.0)\n",
      "Requirement already satisfied: psutil>=5.8 in c:\\users\\pss2\\anaconda3\\envs\\dvc-tutorial\\lib\\site-packages (from dvc) (5.9.0)\n",
      "Requirement already satisfied: pydot>=1.2.4 in c:\\users\\pss2\\anaconda3\\envs\\dvc-tutorial\\lib\\site-packages (from dvc) (2.0.0)\n",
      "Requirement already satisfied: pygtrie>=2.3.2 in c:\\users\\pss2\\anaconda3\\envs\\dvc-tutorial\\lib\\site-packages (from dvc) (2.5.0)\n",
      "Requirement already satisfied: pyparsing>=2.4.7 in c:\\users\\pss2\\anaconda3\\envs\\dvc-tutorial\\lib\\site-packages (from dvc) (3.1.2)\n",
      "Requirement already satisfied: requests>=2.22 in c:\\users\\pss2\\anaconda3\\envs\\dvc-tutorial\\lib\\site-packages (from dvc) (2.32.3)\n",
      "Requirement already satisfied: rich>=12 in c:\\users\\pss2\\anaconda3\\envs\\dvc-tutorial\\lib\\site-packages (from dvc) (13.7.1)\n",
      "Requirement already satisfied: ruamel.yaml>=0.17.11 in c:\\users\\pss2\\anaconda3\\envs\\dvc-tutorial\\lib\\site-packages (from dvc) (0.18.6)\n",
      "Requirement already satisfied: scmrepo<4,>=3.3.4 in c:\\users\\pss2\\anaconda3\\envs\\dvc-tutorial\\lib\\site-packages (from dvc) (3.3.5)\n",
      "Requirement already satisfied: shortuuid>=0.5 in c:\\users\\pss2\\anaconda3\\envs\\dvc-tutorial\\lib\\site-packages (from dvc) (1.0.13)\n",
      "Requirement already satisfied: shtab<2,>=1.3.4 in c:\\users\\pss2\\anaconda3\\envs\\dvc-tutorial\\lib\\site-packages (from dvc) (1.7.1)\n",
      "Requirement already satisfied: tabulate>=0.8.7 in c:\\users\\pss2\\anaconda3\\envs\\dvc-tutorial\\lib\\site-packages (from dvc) (0.9.0)\n",
      "Requirement already satisfied: tomlkit>=0.11.1 in c:\\users\\pss2\\anaconda3\\envs\\dvc-tutorial\\lib\\site-packages (from dvc) (0.12.5)\n",
      "Requirement already satisfied: tqdm<5,>=4.63.1 in c:\\users\\pss2\\anaconda3\\envs\\dvc-tutorial\\lib\\site-packages (from dvc) (4.66.4)\n",
      "Requirement already satisfied: voluptuous>=0.11.7 in c:\\users\\pss2\\anaconda3\\envs\\dvc-tutorial\\lib\\site-packages (from dvc) (0.14.2)\n",
      "Requirement already satisfied: zc.lockfile>=1.2.1 in c:\\users\\pss2\\anaconda3\\envs\\dvc-tutorial\\lib\\site-packages (from dvc) (3.0.post1)\n",
      "Requirement already satisfied: six in c:\\users\\pss2\\anaconda3\\envs\\dvc-tutorial\\lib\\site-packages (from configobj>=5.0.6->dvc) (1.16.0)\n",
      "Requirement already satisfied: dictdiffer>=0.8.1 in c:\\users\\pss2\\anaconda3\\envs\\dvc-tutorial\\lib\\site-packages (from dvc-data<3.16,>=3.15->dvc) (0.9.0)\n",
      "Requirement already satisfied: diskcache>=5.2.1 in c:\\users\\pss2\\anaconda3\\envs\\dvc-tutorial\\lib\\site-packages (from dvc-data<3.16,>=3.15->dvc) (5.6.3)\n",
      "Requirement already satisfied: sqltrie<1,>=0.11.0 in c:\\users\\pss2\\anaconda3\\envs\\dvc-tutorial\\lib\\site-packages (from dvc-data<3.16,>=3.15->dvc) (0.11.0)\n",
      "Requirement already satisfied: aiohttp-retry>=2.5.0 in c:\\users\\pss2\\anaconda3\\envs\\dvc-tutorial\\lib\\site-packages (from dvc-http>=2.29.0->dvc) (2.8.3)\n",
      "Requirement already satisfied: pywin32>=225 in c:\\users\\pss2\\anaconda3\\envs\\dvc-tutorial\\lib\\site-packages (from dvc-task<1,>=0.3.0->dvc) (305.1)\n",
      "Requirement already satisfied: billiard<5.0,>=4.2.0 in c:\\users\\pss2\\anaconda3\\envs\\dvc-tutorial\\lib\\site-packages (from celery->dvc) (4.2.0)\n",
      "Requirement already satisfied: vine<6.0,>=5.1.0 in c:\\users\\pss2\\anaconda3\\envs\\dvc-tutorial\\lib\\site-packages (from celery->dvc) (5.1.0)\n",
      "Requirement already satisfied: click<9.0,>=8.1.2 in c:\\users\\pss2\\anaconda3\\envs\\dvc-tutorial\\lib\\site-packages (from celery->dvc) (8.1.7)\n",
      "Requirement already satisfied: click-didyoumean>=0.3.0 in c:\\users\\pss2\\anaconda3\\envs\\dvc-tutorial\\lib\\site-packages (from celery->dvc) (0.3.1)\n",
      "Requirement already satisfied: click-repl>=0.2.0 in c:\\users\\pss2\\anaconda3\\envs\\dvc-tutorial\\lib\\site-packages (from celery->dvc) (0.3.0)\n",
      "Requirement already satisfied: click-plugins>=1.1.1 in c:\\users\\pss2\\anaconda3\\envs\\dvc-tutorial\\lib\\site-packages (from celery->dvc) (1.1.1)\n",
      "Requirement already satisfied: tzdata>=2022.7 in c:\\users\\pss2\\anaconda3\\envs\\dvc-tutorial\\lib\\site-packages (from celery->dvc) (2024.1)\n",
      "Requirement already satisfied: python-dateutil>=2.8.2 in c:\\users\\pss2\\anaconda3\\envs\\dvc-tutorial\\lib\\site-packages (from celery->dvc) (2.9.0.post0)\n",
      "Requirement already satisfied: atpublic>=2.3 in c:\\users\\pss2\\anaconda3\\envs\\dvc-tutorial\\lib\\site-packages (from flufl.lock<8,>=5->dvc) (4.1.0)\n",
      "Requirement already satisfied: typer>=0.4.1 in c:\\users\\pss2\\anaconda3\\envs\\dvc-tutorial\\lib\\site-packages (from gto<2,>=1.6.0->dvc) (0.12.3)\n",
      "Requirement already satisfied: pydantic!=2.0.0,<3,>=1.9.0 in c:\\users\\pss2\\anaconda3\\envs\\dvc-tutorial\\lib\\site-packages (from gto<2,>=1.6.0->dvc) (2.7.3)\n",
      "Requirement already satisfied: semver>=2.13.0 in c:\\users\\pss2\\anaconda3\\envs\\dvc-tutorial\\lib\\site-packages (from gto<2,>=1.6.0->dvc) (3.0.2)\n",
      "Requirement already satisfied: entrypoints in c:\\users\\pss2\\anaconda3\\envs\\dvc-tutorial\\lib\\site-packages (from gto<2,>=1.6.0->dvc) (0.4)\n",
      "Requirement already satisfied: antlr4-python3-runtime==4.9.* in c:\\users\\pss2\\anaconda3\\envs\\dvc-tutorial\\lib\\site-packages (from hydra-core>=1.1->dvc) (4.9.3)\n",
      "Requirement already satisfied: appdirs in c:\\users\\pss2\\anaconda3\\envs\\dvc-tutorial\\lib\\site-packages (from iterative-telemetry>=0.0.7->dvc) (1.4.4)\n",
      "Requirement already satisfied: filelock in c:\\users\\pss2\\anaconda3\\envs\\dvc-tutorial\\lib\\site-packages (from iterative-telemetry>=0.0.7->dvc) (3.14.0)\n",
      "Requirement already satisfied: amqp<6.0.0,>=5.1.1 in c:\\users\\pss2\\anaconda3\\envs\\dvc-tutorial\\lib\\site-packages (from kombu->dvc) (5.2.0)\n",
      "Requirement already satisfied: PyYAML>=5.1.0 in c:\\users\\pss2\\anaconda3\\envs\\dvc-tutorial\\lib\\site-packages (from omegaconf->dvc) (6.0.1)\n",
      "Requirement already satisfied: charset-normalizer<4,>=2 in c:\\users\\pss2\\anaconda3\\envs\\dvc-tutorial\\lib\\site-packages (from requests>=2.22->dvc) (3.3.2)\n",
      "Requirement already satisfied: idna<4,>=2.5 in c:\\users\\pss2\\anaconda3\\envs\\dvc-tutorial\\lib\\site-packages (from requests>=2.22->dvc) (3.7)\n",
      "Requirement already satisfied: urllib3<3,>=1.21.1 in c:\\users\\pss2\\anaconda3\\envs\\dvc-tutorial\\lib\\site-packages (from requests>=2.22->dvc) (2.2.1)\n",
      "Requirement already satisfied: certifi>=2017.4.17 in c:\\users\\pss2\\anaconda3\\envs\\dvc-tutorial\\lib\\site-packages (from requests>=2.22->dvc) (2024.6.2)\n",
      "Requirement already satisfied: markdown-it-py>=2.2.0 in c:\\users\\pss2\\anaconda3\\envs\\dvc-tutorial\\lib\\site-packages (from rich>=12->dvc) (3.0.0)\n",
      "Requirement already satisfied: pygments<3.0.0,>=2.13.0 in c:\\users\\pss2\\anaconda3\\envs\\dvc-tutorial\\lib\\site-packages (from rich>=12->dvc) (2.15.1)\n",
      "Requirement already satisfied: ruamel.yaml.clib>=0.2.7 in c:\\users\\pss2\\anaconda3\\envs\\dvc-tutorial\\lib\\site-packages (from ruamel.yaml>=0.17.11->dvc) (0.2.8)\n",
      "Requirement already satisfied: gitpython>3 in c:\\users\\pss2\\anaconda3\\envs\\dvc-tutorial\\lib\\site-packages (from scmrepo<4,>=3.3.4->dvc) (3.1.43)\n",
      "Requirement already satisfied: pygit2>=1.14.0 in c:\\users\\pss2\\anaconda3\\envs\\dvc-tutorial\\lib\\site-packages (from scmrepo<4,>=3.3.4->dvc) (1.15.0)\n",
      "Requirement already satisfied: asyncssh<3,>=2.13.1 in c:\\users\\pss2\\anaconda3\\envs\\dvc-tutorial\\lib\\site-packages (from scmrepo<4,>=3.3.4->dvc) (2.14.2)\n",
      "Requirement already satisfied: setuptools in c:\\users\\pss2\\anaconda3\\envs\\dvc-tutorial\\lib\\site-packages (from zc.lockfile>=1.2.1->dvc) (69.5.1)\n",
      "Requirement already satisfied: aiohttp in c:\\users\\pss2\\anaconda3\\envs\\dvc-tutorial\\lib\\site-packages (from aiohttp-retry>=2.5.0->dvc-http>=2.29.0->dvc) (3.9.5)\n",
      "Requirement already satisfied: cryptography>=39.0 in c:\\users\\pss2\\anaconda3\\envs\\dvc-tutorial\\lib\\site-packages (from asyncssh<3,>=2.13.1->scmrepo<4,>=3.3.4->dvc) (42.0.8)\n",
      "Requirement already satisfied: typing-extensions>=3.6 in c:\\users\\pss2\\anaconda3\\envs\\dvc-tutorial\\lib\\site-packages (from asyncssh<3,>=2.13.1->scmrepo<4,>=3.3.4->dvc) (4.12.2)\n",
      "Requirement already satisfied: prompt-toolkit>=3.0.36 in c:\\users\\pss2\\anaconda3\\envs\\dvc-tutorial\\lib\\site-packages (from click-repl>=0.2.0->celery->dvc) (3.0.43)\n",
      "Requirement already satisfied: gitdb<5,>=4.0.1 in c:\\users\\pss2\\anaconda3\\envs\\dvc-tutorial\\lib\\site-packages (from gitpython>3->scmrepo<4,>=3.3.4->dvc) (4.0.11)\n",
      "Requirement already satisfied: mdurl~=0.1 in c:\\users\\pss2\\anaconda3\\envs\\dvc-tutorial\\lib\\site-packages (from markdown-it-py>=2.2.0->rich>=12->dvc) (0.1.2)\n",
      "Requirement already satisfied: annotated-types>=0.4.0 in c:\\users\\pss2\\anaconda3\\envs\\dvc-tutorial\\lib\\site-packages (from pydantic!=2.0.0,<3,>=1.9.0->gto<2,>=1.6.0->dvc) (0.7.0)\n",
      "Requirement already satisfied: pydantic-core==2.18.4 in c:\\users\\pss2\\anaconda3\\envs\\dvc-tutorial\\lib\\site-packages (from pydantic!=2.0.0,<3,>=1.9.0->gto<2,>=1.6.0->dvc) (2.18.4)\n",
      "Requirement already satisfied: cffi>=1.16.0 in c:\\users\\pss2\\anaconda3\\envs\\dvc-tutorial\\lib\\site-packages (from pygit2>=1.14.0->scmrepo<4,>=3.3.4->dvc) (1.16.0)\n",
      "Requirement already satisfied: orjson in c:\\users\\pss2\\anaconda3\\envs\\dvc-tutorial\\lib\\site-packages (from sqltrie<1,>=0.11.0->dvc-data<3.16,>=3.15->dvc) (3.10.4)\n",
      "Requirement already satisfied: shellingham>=1.3.0 in c:\\users\\pss2\\anaconda3\\envs\\dvc-tutorial\\lib\\site-packages (from typer>=0.4.1->gto<2,>=1.6.0->dvc) (1.5.4)\n",
      "Requirement already satisfied: aiosignal>=1.1.2 in c:\\users\\pss2\\anaconda3\\envs\\dvc-tutorial\\lib\\site-packages (from aiohttp->aiohttp-retry>=2.5.0->dvc-http>=2.29.0->dvc) (1.3.1)\n",
      "Requirement already satisfied: frozenlist>=1.1.1 in c:\\users\\pss2\\anaconda3\\envs\\dvc-tutorial\\lib\\site-packages (from aiohttp->aiohttp-retry>=2.5.0->dvc-http>=2.29.0->dvc) (1.4.1)\n",
      "Requirement already satisfied: multidict<7.0,>=4.5 in c:\\users\\pss2\\anaconda3\\envs\\dvc-tutorial\\lib\\site-packages (from aiohttp->aiohttp-retry>=2.5.0->dvc-http>=2.29.0->dvc) (6.0.5)\n",
      "Requirement already satisfied: yarl<2.0,>=1.0 in c:\\users\\pss2\\anaconda3\\envs\\dvc-tutorial\\lib\\site-packages (from aiohttp->aiohttp-retry>=2.5.0->dvc-http>=2.29.0->dvc) (1.9.4)\n",
      "Requirement already satisfied: async-timeout<5.0,>=4.0 in c:\\users\\pss2\\anaconda3\\envs\\dvc-tutorial\\lib\\site-packages (from aiohttp->aiohttp-retry>=2.5.0->dvc-http>=2.29.0->dvc) (4.0.3)\n",
      "Requirement already satisfied: pycparser in c:\\users\\pss2\\anaconda3\\envs\\dvc-tutorial\\lib\\site-packages (from cffi>=1.16.0->pygit2>=1.14.0->scmrepo<4,>=3.3.4->dvc) (2.22)\n",
      "Requirement already satisfied: smmap<6,>=3.0.1 in c:\\users\\pss2\\anaconda3\\envs\\dvc-tutorial\\lib\\site-packages (from gitdb<5,>=4.0.1->gitpython>3->scmrepo<4,>=3.3.4->dvc) (5.0.1)\n",
      "Requirement already satisfied: wcwidth in c:\\users\\pss2\\anaconda3\\envs\\dvc-tutorial\\lib\\site-packages (from prompt-toolkit>=3.0.36->click-repl>=0.2.0->celery->dvc) (0.2.5)\n"
     ]
    }
   ],
   "source": [
    "!pip install dvc\n"
   ]
  },
  {
   "cell_type": "markdown",
   "metadata": {},
   "source": [
    "#### Initialize DVC\n",
    "\n",
    "This should create a '.dvc' subfolder in the project folder. If [.dvc](.dvc) already exists you can delete it for the tutorial. Or use -f to force as follows:"
   ]
  },
  {
   "cell_type": "code",
   "execution_count": 2,
   "metadata": {},
   "outputs": [
    {
     "name": "stdout",
     "output_type": "stream",
     "text": [
      "Initialized DVC repository.\n",
      "\n",
      "You can now commit the changes to git.\n",
      "\n",
      "+---------------------------------------------------------------------+\n",
      "|                                                                     |\n",
      "|        DVC has enabled anonymous aggregate usage analytics.         |\n",
      "|     Read the analytics documentation (and how to opt-out) here:     |\n",
      "|             <https://dvc.org/doc/user-guide/analytics>              |\n",
      "|                                                                     |\n",
      "+---------------------------------------------------------------------+\n",
      "\n",
      "What's next?\n",
      "------------\n",
      "- Check out the documentation: <https://dvc.org/doc>\n",
      "- Get help and share ideas: <https://dvc.org/chat>\n",
      "- Star us on GitHub: <https://github.com/iterative/dvc>\n"
     ]
    }
   ],
   "source": [
    "!dvc init -f"
   ]
  },
  {
   "cell_type": "markdown",
   "metadata": {},
   "source": [
    "### Determine OS"
   ]
  },
  {
   "cell_type": "code",
   "execution_count": 3,
   "metadata": {},
   "outputs": [
    {
     "name": "stdout",
     "output_type": "stream",
     "text": [
      "Running on Windows\n"
     ]
    }
   ],
   "source": [
    "import os\n",
    "from PIL import Image\n",
    "import platform\n",
    "import numpy as np\n",
    "\n",
    "os_type = platform.system()\n",
    "print(f\"Running on {os_type}\")"
   ]
  },
  {
   "cell_type": "markdown",
   "metadata": {},
   "source": [
    "### Define the data directory\n",
    "#### Create Directory if it doesn't exist"
   ]
  },
  {
   "cell_type": "code",
   "execution_count": 4,
   "metadata": {},
   "outputs": [
    {
     "name": "stdout",
     "output_type": "stream",
     "text": [
      "\n",
      "To track the changes with git, run:\n",
      "\n",
      "\tgit add images.dvc .gitignore\n",
      "\n",
      "To enable auto staging, run:\n",
      "\n",
      "\tdvc config core.autostage true\n"
     ]
    },
    {
     "name": "stderr",
     "output_type": "stream",
     "text": [
      "⠋ Checking graph\n",
      "\n"
     ]
    }
   ],
   "source": [
    "image_dir = \"images\"\n",
    "os.makedirs(image_dir, exist_ok=True)\n",
    "\n",
    "for i in range(4):\n",
    "    with open(os.path.join(image_dir,f\"image{i}.png\"),\"wb\") as f:\n",
    "        data = np.random.rand(100,100,3) * 255\n",
    "        img = Image.fromarray(data.astype('uint8')).convert('RGB')\n",
    "        img.save(os.path.join(image_dir, f\"image{i}.png\"))\n",
    "\n",
    "!dvc add images"
   ]
  },
  {
   "cell_type": "markdown",
   "metadata": {},
   "source": [
    "If it is tracked by git, follow these steps:\n",
    "\n",
    "`\n",
    "git rm -r --cached 'data\\example_subfolder'\n",
    "`\n",
    "\n",
    "`\n",
    "git commit -m \"stop tracking data\\example_subfolder\"\n",
    "`"
   ]
  },
  {
   "cell_type": "code",
   "execution_count": 5,
   "metadata": {},
   "outputs": [
    {
     "name": "stdout",
     "output_type": "stream",
     "text": [
      "\n",
      "To track the changes with git, run:\n",
      "\n",
      "\tgit add images.dvc\n",
      "\n",
      "To enable auto staging, run:\n",
      "\n",
      "\tdvc config core.autostage true\n"
     ]
    },
    {
     "name": "stderr",
     "output_type": "stream",
     "text": [
      "⠋ Checking graph\n",
      "\n"
     ]
    }
   ],
   "source": [
    "\n",
    "\n",
    "for i in range(4):\n",
    "    with open(os.path.join(image_dir,f\"image{i}.png\"),\"wb\") as f:\n",
    "        data = np.random.rand(100,100,3) * 255\n",
    "        img = Image.fromarray(data.astype('uint8')).convert('RGB')\n",
    "        img.save(os.path.join(image_dir, f\"image{i}.png\"))\n",
    "                \n",
    "!dvc add images"
   ]
  },
  {
   "cell_type": "markdown",
   "metadata": {},
   "source": [
    "### Storing data remotely"
   ]
  },
  {
   "cell_type": "code",
   "execution_count": 6,
   "metadata": {},
   "outputs": [
    {
     "name": "stdout",
     "output_type": "stream",
     "text": [
      "Setting 'myremote' as a default remote.\n",
      "5 files pushed\n"
     ]
    }
   ],
   "source": [
    "!dvc remote add -d myremote /tmp/dvcstore\n",
    "!dvc push"
   ]
  },
  {
   "cell_type": "markdown",
   "metadata": {},
   "source": [
    "### Management"
   ]
  },
  {
   "cell_type": "code",
   "execution_count": 7,
   "metadata": {},
   "outputs": [
    {
     "name": "stderr",
     "output_type": "stream",
     "text": [
      "fatal: a branch named 'experiment' already exists\n"
     ]
    },
    {
     "name": "stdout",
     "output_type": "stream",
     "text": [
      "\n",
      "To track the changes with git, run:\n",
      "\n",
      "\tgit add images.dvc\n",
      "\n",
      "To enable auto staging, run:\n",
      "\n",
      "\tdvc config core.autostage true\n"
     ]
    },
    {
     "name": "stderr",
     "output_type": "stream",
     "text": [
      "⠋ Checking graph\n",
      "\n",
      "ERROR: 'c:\\Users\\pss2\\PycharmProjects\\dataversioncontrol\\dvc.yaml' does not exist\n"
     ]
    },
    {
     "name": "stdout",
     "output_type": "stream",
     "text": [
      "M\t.dvc/config\n",
      "M\t.gitignore\n",
      "M\tbinder/environment.yaml\n",
      "M\tdvc_tutorial.ipynb\n",
      "Your branch is up to date with 'origin/main'.\n"
     ]
    },
    {
     "name": "stderr",
     "output_type": "stream",
     "text": [
      "Already on 'main'\n"
     ]
    }
   ],
   "source": [
    "# Create a new branch for an experiment\n",
    "!git checkout -b experiment\n",
    "\n",
    "\n",
    "# make changes to image files\n",
    "for i in range(4):\n",
    "    with open(os.path.join(image_dir,f\"image{i}.png\"),\"wb\") as f:\n",
    "        data = np.random.rand(100,100,3) * 255\n",
    "        img = Image.fromarray(data.astype('uint8')).convert('RGB')\n",
    "        img.save(os.path.join(image_dir, f\"image{i}.png\"))\n",
    "        \n",
    "# Add and commit changes\n",
    "!dvc add images\n",
    "!dvc repro\n",
    "\n",
    "# Compare experiment with main branch\n",
    "!git checkout main\n",
    "!dvc metrics diff experiment"
   ]
  },
  {
   "cell_type": "markdown",
   "metadata": {},
   "source": [
    "### Clean up\n"
   ]
  },
  {
   "cell_type": "code",
   "execution_count": 13,
   "metadata": {},
   "outputs": [
    {
     "ename": "",
     "evalue": "",
     "output_type": "error",
     "traceback": [
      "\u001b[1;31mThe Kernel crashed while executing code in the current cell or a previous cell. \n",
      "\u001b[1;31mPlease review the code in the cell(s) to identify a possible cause of the failure. \n",
      "\u001b[1;31mClick <a href='https://aka.ms/vscodeJupyterKernelCrash'>here</a> for more info. \n",
      "\u001b[1;31mView Jupyter <a href='command:jupyter.viewOutput'>log</a> for further details."
     ]
    }
   ],
   "source": [
    "# !dvc remove images.dvc\n",
    "import stat\n",
    "\n",
    "def change_permissions(path):\n",
    "    os.chmod(path, stat.S_IWRITE)\n",
    "    \n",
    "def remove_dir(dir_path):\n",
    "    if os.path.exists(dir_path):\n",
    "        for root, dirs, files in os.walk(dir_path, topdown=False):\n",
    "            for name in files:\n",
    "                fpath = os.path.join(root, name)\n",
    "                change_permissions(fpath)\n",
    "                os.remove(fpath)\n",
    "            for name in dirs:\n",
    "                fpath = os.path.join(root, name)\n",
    "                change_permissions(fpath)\n",
    "                os.remove(fpath)\n",
    "        change_permissions(dir_path)\n",
    "        os.rmdir(dir_path)\n",
    "\n",
    "    \n",
    "if os_type == \"Windows\":\n",
    "    import shutil\n",
    "    if os.path.exists('.dvc'):\n",
    "        change_permissions('.dvc')\n",
    "        # shutil.rmtree('.dvc', ignore_errors=True)\n",
    "        remove_dir('.dvc')\n",
    "    if os.path.exists('images'):\n",
    "        change_permissions('images')\n",
    "        shutil.rmtree('images', ignore_errors=True)\n",
    "\n",
    "else:\n",
    "    !rm -rf images .dvc"
   ]
  },
  {
   "cell_type": "code",
   "execution_count": null,
   "metadata": {},
   "outputs": [],
   "source": []
  }
 ],
 "metadata": {
  "kernelspec": {
   "display_name": "DVC Tutorial",
   "language": "python",
   "name": "dvc-tutorial"
  },
  "language_info": {
   "codemirror_mode": {
    "name": "ipython",
    "version": 3
   },
   "file_extension": ".py",
   "mimetype": "text/x-python",
   "name": "python",
   "nbconvert_exporter": "python",
   "pygments_lexer": "ipython3",
   "version": "3.10.14"
  }
 },
 "nbformat": 4,
 "nbformat_minor": 1
}
